{
 "cells": [
  {
   "cell_type": "code",
   "execution_count": 3,
   "id": "bc3a3907",
   "metadata": {},
   "outputs": [],
   "source": [
    "import os\n",
    "import sys\n",
    "from pathlib import Path\n",
    "from dotenv import load_dotenv\n",
    "load_dotenv()\n",
    "\n",
    "PROJECT_ROOT = Path(os.getenv(\"PROJECT_ROOT\")).resolve() # type: ignore\n",
    "MODEL_ROOT = Path(os.getenv(\"MODEL_ROOT\")).resolve() # type: ignore\n",
    "DATA_ROOT = Path(os.getenv(\"DATA_ROOT\")).resolve() # type: ignore\n",
    "CONFIG_ROOT = Path(os.getenv(\"CONFIG_ROOT\")).resolve() # type: ignore\n",
    "SRC_ROOT = Path(os.getenv(\"SRC_ROOT\")).resolve() # type: ignore\n",
    "\n",
    "os.environ[\"CUDA_VISIBLE_DEVICES\"] = \"5\"\n",
    "sys.path.append(str(SRC_ROOT))\n",
    "\n",
    "from openai import OpenAI\n",
    "\n",
    "from datasets import Dataset\n",
    "import json\n",
    "from utils.utility import *\n",
    "\n",
    "from omegaconf import OmegaConf\n",
    "\n",
    "client = OpenAI(\n",
    "    api_key=os.getenv(\"OPENAI_API_KEY\")\n",
    ")"
   ]
  },
  {
   "cell_type": "code",
   "execution_count": 9,
   "id": "a20ea6c7",
   "metadata": {},
   "outputs": [
    {
     "name": "stdout",
     "output_type": "stream",
     "text": [
      "Batch(id='batch_68b6866b5cd081909b0f206ad0039d0c', completion_window='24h', created_at=1756792427, endpoint='/v1/responses', input_file_id='file-NP7JQzHQ5mV3LGwGGJgGzT', object='batch', status='completed', cancelled_at=None, cancelling_at=None, completed_at=1756792693, error_file_id=None, errors=None, expired_at=None, expires_at=1756878827, failed_at=None, finalizing_at=1756792618, in_progress_at=1756792488, metadata={}, output_file_id='file-SnPwG2xtu1KJABB4KpZykf', request_counts=BatchRequestCounts(completed=1024, failed=0, total=1024))\n"
     ]
    }
   ],
   "source": [
    "batch = client.batches.retrieve(\"batch_68b6866b5cd081909b0f206ad0039d0c\")\n",
    "print(batch)"
   ]
  },
  {
   "cell_type": "code",
   "execution_count": 10,
   "id": "fce23396",
   "metadata": {},
   "outputs": [],
   "source": [
    "config = OmegaConf.load(CONFIG_ROOT / input(\"input configuration path: \"))"
   ]
  },
  {
   "cell_type": "code",
   "execution_count": 11,
   "id": "836ba837",
   "metadata": {},
   "outputs": [
    {
     "name": "stdout",
     "output_type": "stream",
     "text": [
      "Loading generated ouputs from /src/gs25009/LLM_DAG_ALLIGN/dataset/preprocessed/generated_pairwise_openai_2025-08-27_06-03-12.json...\n",
      "Loaded successfully\n"
     ]
    }
   ],
   "source": [
    "gen_filename = input(\"input generation filename: \")\n",
    "gen_output_path = DATA_ROOT / config.output_dir / gen_filename\n",
    "print(f\"Loading generated ouputs from {str(gen_output_path)}...\")\n",
    "with open(gen_output_path, \"r\", encoding=\"utf-8\") as f:\n",
    "    dataset = json.load(f)\n",
    "dataset = Dataset.from_dict(dataset)\n",
    "print(\"Loaded successfully\")"
   ]
  },
  {
   "cell_type": "code",
   "execution_count": 12,
   "id": "afb14739",
   "metadata": {},
   "outputs": [],
   "source": [
    "import json\n",
    "import regex as re\n",
    "\n",
    "pattern = r\"Preferred:\\s*[\\\"']?([12])[\\\"']?\"\n",
    "\n",
    "def generate_comparisons(dataset: Dataset) -> list[dict]:\n",
    "    pairs = []\n",
    "    for k, example in enumerate(dataset):\n",
    "        prompt = example['prompt'] # type: ignore\n",
    "        ref = \"\"\n",
    "        summaries = example['summaries'] # type: ignore\n",
    "        \n",
    "        for i, y1 in enumerate(summaries):\n",
    "            for j, y2 in enumerate(summaries):\n",
    "                if i < j:\n",
    "                    pairs.append({\n",
    "                        'prompt': prompt,\n",
    "                        'y1': y1,\n",
    "                        'y2': y2,\n",
    "                        'ref': ref,\n",
    "                        'meta': f\"{k}, {i}, {j}\"\n",
    "                    })\n",
    "    \n",
    "    return pairs\n",
    "\n",
    "pairs = generate_comparisons(dataset)\n",
    "\n",
    "def _parse_output_line(line: str) -> tuple[int, int | None]:\n",
    "    obj = json.loads(line)\n",
    "    idx = int(obj.get(\"custom_id\"))  # came from compare_batch_0\n",
    "    body = obj.get(\"response\", {}).get(\"body\", {})\n",
    "    output = body.get(\"output\", [])[1].get(\"content\", \"\")[0]\n",
    "    if not output:\n",
    "        return idx, None\n",
    "    output_text = output.get(\"text\", \"\")\n",
    "    match = re.search(pattern, output_text)\n",
    "    if not match:\n",
    "        return idx, None\n",
    "    # Map '1' -> 0 (y1), '2' -> 1 (y2)\n",
    "    return idx, (0 if match.group(1) == \"1\" else 1)\n",
    "\n",
    "def compare_batch_2() -> list[int | None]:\n",
    "    result: list[int | None] = [None for _ in range(len(pairs))]\n",
    "\n",
    "    b = batch\n",
    "\n",
    "    if getattr(b, \"status\", None) == \"completed\" and getattr(b, \"output_file_id\", None):\n",
    "        content_resp = client.files.content(b.output_file_id)\n",
    "        # Support both text attribute and binary stream\n",
    "        data = getattr(content_resp, \"text\", None)\n",
    "        if data is None:\n",
    "            # Assume file-like stream with .read()\n",
    "            raw = content_resp.read()\n",
    "            if isinstance(raw, bytes):\n",
    "                data = raw.decode(\"utf-8\", errors=\"ignore\")\n",
    "            else:\n",
    "                data = str(raw)\n",
    "        for raw_line in data.splitlines():\n",
    "            if not raw_line.strip():\n",
    "                continue\n",
    "            idx, pref = _parse_output_line(raw_line)\n",
    "            if 0 <= idx < len(result):\n",
    "                result[idx] = pref\n",
    "\n",
    "    return result"
   ]
  },
  {
   "cell_type": "code",
   "execution_count": null,
   "id": "4ac93615",
   "metadata": {},
   "outputs": [
    {
     "name": "stdout",
     "output_type": "stream",
     "text": [
      "[0, 0, 0, 0, 1, 1, 0, 0, 0, 1, 0, 1, 1, 1, 0, 0, 0, 0, 0, 1]\n"
     ]
    }
   ],
   "source": [
    "res = compare_batch_2()"
   ]
  },
  {
   "cell_type": "code",
   "execution_count": null,
   "id": "1db9c031",
   "metadata": {},
   "outputs": [
    {
     "name": "stdout",
     "output_type": "stream",
     "text": [
      "1024\n"
     ]
    }
   ],
   "source": [
    "cnt = 0\n",
    "for a in res:\n",
    "    if a is None:\n",
    "        break\n",
    "    if a is not None:\n",
    "        cnt += 1\n",
    "print(cnt)"
   ]
  },
  {
   "cell_type": "code",
   "execution_count": 18,
   "id": "e6bdb2f5",
   "metadata": {},
   "outputs": [
    {
     "name": "stdout",
     "output_type": "stream",
     "text": [
      "Saving result to /src/gs25009/LLM_DAG_ALLIGN/dataset/preprocessed/gamja.json...\n",
      "Saved successfully.\n"
     ]
    }
   ],
   "source": [
    "filename = \"gamja.json\"\n",
    "output_path = DATA_ROOT / config.output_dir / filename\n",
    "        \n",
    "print(f\"Saving result to {str(output_path)}...\")\n",
    "output_path.parent.mkdir(parents=True, exist_ok=True)\n",
    "with open(str(output_path), \"w\", encoding=\"utf-8\") as f:\n",
    "    for pair, compare in zip(pairs, res):\n",
    "        line = json.dumps({\"id\": pair[\"meta\"], \"result\": compare}, ensure_ascii=False)\n",
    "        f.write(line + \"\\n\")\n",
    "print(\"Saved successfully.\")"
   ]
  },
  {
   "cell_type": "code",
   "execution_count": null,
   "id": "b9c508c3",
   "metadata": {},
   "outputs": [
    {
     "name": "stdout",
     "output_type": "stream",
     "text": [
      "45\n",
      "45\n",
      "45\n",
      "45\n",
      "45\n",
      "45\n",
      "45\n",
      "45\n",
      "45\n",
      "45\n",
      "45\n",
      "45\n",
      "45\n",
      "0\n",
      "45\n",
      "45\n",
      "45\n",
      "45\n",
      "45\n",
      "45\n",
      "45\n",
      "45\n",
      "0\n",
      "45\n"
     ]
    }
   ],
   "source": [
    "# 0~23까지 처리됨\n",
    "groups = [[] for _ in range(24)]\n",
    "for pref, pair in zip(res, pairs):\n",
    "    if pref is None:\n",
    "        continue\n",
    "    k = int(pair['meta'].split(\",\")[0])\n",
    "    if k < 24:\n",
    "        groups[k].append((pair, pref))\n",
    "\n",
    "for group in groups:\n",
    "    print(len(group))"
   ]
  },
  {
   "cell_type": "code",
   "execution_count": 35,
   "id": "16ed32cd",
   "metadata": {},
   "outputs": [],
   "source": [
    "def has_cycle(adj):\n",
    "    \"\"\"\n",
    "    adj: 리스트 기반 인접리스트. adj[u] = u에서 나가는 간선의 목적지 리스트\n",
    "    사이클 있으면 True, 없으면 False\n",
    "    \"\"\"\n",
    "    n = len(adj)\n",
    "    WHITE, GRAY, BLACK = 0, 1, 2\n",
    "    color = [WHITE] * n\n",
    "\n",
    "    def dfs(u):\n",
    "        color[u] = GRAY\n",
    "        for v in adj[u]:\n",
    "            if color[v] == GRAY:   # 백엣지 → 사이클\n",
    "                return True\n",
    "            if color[v] == WHITE and dfs(v):\n",
    "                return True\n",
    "        color[u] = BLACK\n",
    "        return False\n",
    "\n",
    "    for u in range(n):\n",
    "        if color[u] == WHITE and dfs(u):\n",
    "            return True\n",
    "    return False\n",
    "\n",
    "def find_cycle(adj):\n",
    "    \"\"\"\n",
    "    adj: 인접 리스트 (리스트 기반), adj[u] = u -> v 간선 리스트\n",
    "    사이클 있으면 그 경로(list)를 반환, 없으면 None 반환\n",
    "    \"\"\"\n",
    "    n = len(adj)\n",
    "    WHITE, GRAY, BLACK = 0, 1, 2\n",
    "    color = [WHITE] * n\n",
    "    parent = [-1] * n\n",
    "    cycle = []\n",
    "\n",
    "    def dfs(u):\n",
    "        nonlocal cycle\n",
    "        color[u] = GRAY\n",
    "        for v in adj[u]:\n",
    "            if color[v] == WHITE:\n",
    "                parent[v] = u\n",
    "                if dfs(v):\n",
    "                    return True\n",
    "            elif color[v] == GRAY:  # 사이클 발견\n",
    "                # v → ... → u → v 사이클 복원\n",
    "                cycle = [v]\n",
    "                x = u\n",
    "                while x != v:\n",
    "                    cycle.append(x)\n",
    "                    x = parent[x]\n",
    "                cycle.append(v)\n",
    "                cycle.reverse()\n",
    "                return True\n",
    "        color[u] = BLACK\n",
    "        return False\n",
    "\n",
    "    for u in range(n):\n",
    "        if color[u] == WHITE and dfs(u):\n",
    "            return cycle\n",
    "    return None"
   ]
  },
  {
   "cell_type": "code",
   "execution_count": 39,
   "id": "3736b26f",
   "metadata": {},
   "outputs": [
    {
     "name": "stdout",
     "output_type": "stream",
     "text": [
      "[[1, 2, 3, 4, 7, 8, 9], [3, 7, 8, 9], [1, 3, 4, 7, 8, 9], [9], [1, 3, 7, 9], [0, 1, 2, 3, 4, 7, 8, 9], [0, 1, 2, 3, 4, 5, 7, 8, 9], [3, 8, 9], [3, 4, 9], []]\n",
      "True\n",
      "[1, 7, 8, 4, 1]\n",
      "[[1, 5], [4, 5, 7], [0, 1, 4, 5, 7, 9], [0, 1, 2, 4, 5, 7, 8, 9], [0, 5, 7, 8], [], [0, 1, 2, 3, 4, 5, 7, 8, 9], [0, 5], [0, 1, 2, 5, 7], [0, 1, 4, 5, 7, 8]]\n",
      "True\n",
      "[0, 1, 4, 0]\n",
      "[[1, 2, 3, 4, 7, 8], [2, 3, 4, 8], [3, 4, 8], [], [3, 8], [0, 1, 2, 3, 4, 6, 7, 8], [0, 1, 2, 3, 4, 7, 8], [1, 2, 3, 4], [3, 7], [0, 1, 2, 3, 4, 5, 6, 7, 8]]\n",
      "True\n",
      "[1, 2, 4, 8, 7, 1]\n",
      "[[6], [0, 4, 5, 6, 8, 9], [0, 1, 4, 5, 6, 8, 9], [0, 1, 2, 4, 5, 6, 8, 9], [0, 5, 6, 8, 9], [0, 6, 8], [], [0, 1, 2, 3, 4, 5, 6, 8, 9], [0, 6], [0, 5, 6, 8]]\n",
      "False\n",
      "[[1, 3, 4, 5, 6, 7, 8], [3, 5, 6, 7, 8], [0, 1, 3, 4, 5, 6, 7, 8, 9], [4, 5, 6, 7, 8], [1, 5, 6, 7, 8], [6, 7, 8], [7, 8], [], [7], [0, 1, 3, 4, 5, 6, 7, 8]]\n",
      "True\n",
      "[1, 3, 4, 1]\n",
      "[[4, 5], [0, 3, 4, 5, 8, 9], [0, 1, 3, 4, 5, 6, 8, 9], [0], [3, 5, 8], [3, 6, 9], [0, 1, 3, 4, 8, 9], [0, 1, 2, 3, 4, 5, 6, 8, 9], [0, 3, 5], [0, 3, 4, 8]]\n",
      "True\n",
      "[0, 4, 3, 0]\n",
      "[[1, 2, 6], [2, 5, 7, 8, 9], [], [0, 1, 2, 4, 5, 6, 7, 8, 9], [0, 1, 2, 5, 6, 7, 8, 9], [0, 2, 7, 8, 9], [1, 2, 5, 7, 9], [0, 2, 8, 9], [0, 2, 6, 9], [0, 2]]\n",
      "True\n",
      "[0, 1, 5, 0]\n",
      "[[1, 2, 3, 4, 5, 6, 7, 8, 9], [4, 5, 7], [1, 4, 5, 7, 8, 9], [1, 2, 4, 5, 7, 8, 9], [5, 7, 9], [], [1, 2, 3, 4, 5, 7, 9], [5], [1, 4, 5, 6, 7, 9], [1, 5, 7]]\n",
      "True\n",
      "[1, 4, 9, 1]\n",
      "[[1, 2, 3, 4, 5, 6, 7, 8, 9], [2, 6], [4, 6, 8, 9], [1, 2, 4, 5, 6, 8, 9], [1, 6, 8, 9], [1, 2, 4, 6, 7, 8, 9], [8, 9], [1, 2, 3, 4, 6, 8, 9], [1, 9], [1]]\n",
      "True\n",
      "[1, 2, 4, 1]\n",
      "[[1, 2, 3, 4, 7, 8, 9], [3, 4, 5, 7, 8, 9], [1, 3, 4, 5, 7, 8, 9], [4, 7, 8, 9], [], [0, 3, 4, 7, 8, 9], [0, 1, 2, 3, 4, 5, 7, 8, 9], [4, 8, 9], [4, 9], [4]]\n",
      "True\n",
      "[0, 1, 5, 0]\n",
      "[[2, 3, 6, 7, 8, 9], [0, 2, 3, 4, 5, 6, 7, 8, 9], [3, 6, 7, 8, 9], [6, 7, 8], [0, 2, 3, 6, 7, 8, 9], [0, 2, 3, 4, 6, 7, 8, 9], [], [6, 8, 9], [6], [3, 6, 8]]\n",
      "True\n",
      "[3, 7, 9, 3]\n",
      "[[1, 2, 3, 4, 5, 6, 7, 8], [5, 6, 7, 8], [1, 5, 6, 7, 8], [1, 2, 4, 5, 6, 7, 8], [1, 2, 5, 6, 7, 8], [6, 7, 8], [7, 8], [8], [], [0, 1, 2, 3, 4, 5, 6, 7, 8]]\n",
      "False\n",
      "[[1, 2, 3, 4, 5, 6, 7, 9], [3, 4, 5, 6, 7, 9], [1, 3, 4, 5, 6, 7, 9], [4, 5, 6, 7, 9], [5, 6, 7, 9], [6, 9], [], [5, 6, 9], [0, 1, 2, 3, 4, 5, 6, 7, 9], [6]]\n",
      "False\n",
      "[[4, 8], [0, 2, 4, 7, 8], [0, 4, 7], [0, 1, 2, 4, 5, 7, 8], [8], [0, 1, 2, 4, 7, 8], [0, 1, 2, 3, 4, 5, 7, 8, 9], [0, 4], [2, 7], [0, 1, 2, 3, 4, 5, 7, 8]]\n",
      "True\n",
      "[0, 4, 8, 2, 0]\n",
      "[[1, 2, 3, 4, 5, 6, 7, 8, 9], [5, 6, 9], [1, 3, 4, 5, 6, 7, 8, 9], [1, 4, 5, 6, 7, 8, 9], [1, 5, 6, 7, 8, 9], [6, 7, 9], [9], [1, 6, 8, 9], [1, 5, 6, 9], []]\n",
      "True\n",
      "[1, 5, 7, 1]\n",
      "[[1, 2, 3, 4, 8, 9], [2, 3, 4, 8, 9], [3, 4, 8, 9], [4, 9], [8, 9], [0, 1, 2, 3, 4, 8, 9], [0, 1, 2, 3, 4, 5, 7, 8, 9], [0, 1, 2, 3, 4, 5, 8, 9], [3], [8]]\n",
      "True\n",
      "[3, 4, 8, 3]\n",
      "[[1, 2, 3, 4, 6, 7, 8, 9], [3, 4], [1, 3, 4, 7, 9], [4, 7], [], [0, 1, 2, 3, 4, 6, 7, 8, 9], [1, 2, 3, 4, 7], [1, 4], [1, 2, 3, 4, 6, 7, 9], [1, 3, 4, 6, 7]]\n",
      "True\n",
      "[1, 3, 7, 1]\n",
      "[[1, 2, 3, 4, 5, 6, 7, 8, 9], [2, 3, 4, 5, 8], [3, 4, 5, 8], [4, 8], [5], [3, 8], [1, 2, 3, 4, 5, 8], [1, 2, 3, 4, 5, 6, 8, 9], [4], [1, 2, 3, 4, 5, 6, 8]]\n",
      "True\n",
      "[3, 4, 5, 3]\n",
      "[[3, 7, 8], [0, 3, 5, 7, 8], [0, 1, 3, 5, 7, 8], [5], [0, 1, 2, 3, 5, 6, 7, 8, 9], [0, 8], [0, 1, 2, 3, 5, 8], [3, 5, 6, 8], [3], [0, 1, 2, 3, 5, 6, 7, 8]]\n",
      "True\n",
      "[0, 3, 5, 0]\n",
      "[[1, 2, 3, 4, 5, 6, 7, 8, 9], [2, 3, 4, 5, 6, 7, 8, 9], [3, 4, 6, 7, 8, 9], [4, 7, 8, 9], [6, 7, 8, 9], [2, 3, 4, 6, 7, 8, 9], [3, 7, 8, 9], [8, 9], [9], []]\n",
      "True\n",
      "[3, 4, 6, 3]\n",
      "[[1, 2, 3, 4, 6, 9], [2, 3, 4, 6, 9], [3, 6, 9], [6, 9], [2, 3, 6, 9], [0, 1, 2, 3, 4, 6, 7, 8, 9], [], [0, 1, 2, 3, 4, 6, 8, 9], [0, 1, 2, 3, 4, 6, 9], [6]]\n",
      "False\n",
      "[[1, 3, 4, 5, 6, 7, 8, 9], [4, 6, 7, 9], [0, 1, 3, 4, 5, 6, 7, 8, 9], [1, 4, 5, 6, 7, 8, 9], [7, 9], [1, 4, 6, 7, 9], [4, 7, 8, 9], [9], [1, 4, 5, 7, 9], []]\n",
      "True\n",
      "[1, 6, 8, 1]\n"
     ]
    }
   ],
   "source": [
    "result = []\n",
    "adj = 0\n",
    "for group in groups:\n",
    "    if len(group) == 0:\n",
    "        continue\n",
    "    prompt = group[0][0]['prompt']\n",
    "    max_idx = 0\n",
    "\n",
    "    for pair, pref in group:\n",
    "        _, i, j = map(int, pair['meta'].split(\", \"))\n",
    "        max_idx = max(max_idx, i, j)\n",
    "\n",
    "    summaries = [\"\"] * (max_idx + 1)\n",
    "    graph = [[] for _ in range(max_idx + 1)]\n",
    "\n",
    "    for pair, pref in group:\n",
    "        _, i, j = map(int, pair['meta'].split(\", \"))\n",
    "        y1, y2 = pair['y1'], pair['y2']\n",
    "        max_idx = max(max_idx, i, j)\n",
    "        summaries[i] = y1\n",
    "        summaries[j] = y2\n",
    "        if pref == 0:\n",
    "            graph[i].append(j)\n",
    "        else:\n",
    "            graph[j].append(i)\n",
    "\n",
    "    print(graph)\n",
    "    print(has_cycle(graph))\n",
    "    if has_cycle(graph):\n",
    "        print(find_cycle(graph))\n",
    "        adj = graph"
   ]
  },
  {
   "cell_type": "code",
   "execution_count": null,
   "id": "554343c0",
   "metadata": {},
   "outputs": [
    {
     "data": {
      "text/plain": [
       "'graph.png'"
      ]
     },
     "execution_count": 41,
     "metadata": {},
     "output_type": "execute_result"
    },
    {
     "name": "stderr",
     "output_type": "stream",
     "text": [
      "Error: no \"view\" rule for type \"image/png\" passed its test case\n",
      "       (for more information, add \"--debug=1\" on the command line)\n"
     ]
    }
   ],
   "source": [
    "from graphviz import Digraph\n",
    "\n",
    "dot = Digraph()\n",
    "\n",
    "for u, nbrs in enumerate(adj):\n",
    "    for v in nbrs:\n",
    "        dot.edge(str(u), str(v))\n",
    "\n",
    "dot.render(\"graph\", format=\"png\", view=True)  # graph.png 생성"
   ]
  },
  {
   "cell_type": "code",
   "execution_count": 6,
   "id": "aec91118",
   "metadata": {},
   "outputs": [
    {
     "name": "stdout",
     "output_type": "stream",
     "text": [
      "66\n",
      "75\n",
      "65\n",
      "49\n",
      "58\n",
      "76\n",
      "59\n",
      "44\n",
      "51\n",
      "65.5732421875\n"
     ]
    }
   ],
   "source": [
    "with open(str(DATA_ROOT / \"kk.jsonl\")) as f:\n",
    "    text = f.read()\n",
    "a = text.split('\"output_tokens\": ')\n",
    "sum = 0\n",
    "for i, line in enumerate(a):\n",
    "    if i == 0:\n",
    "        continue\n",
    "    if i < 10:\n",
    "        print(line.split(\",\")[0])\n",
    "    sum += int(line.split(\",\")[0])\n",
    "\n",
    "print(sum / 1024)"
   ]
  }
 ],
 "metadata": {
  "kernelspec": {
   "display_name": "llm_dag_allign",
   "language": "python",
   "name": "python3"
  },
  "language_info": {
   "codemirror_mode": {
    "name": "ipython",
    "version": 3
   },
   "file_extension": ".py",
   "mimetype": "text/x-python",
   "name": "python",
   "nbconvert_exporter": "python",
   "pygments_lexer": "ipython3",
   "version": "3.11.11"
  }
 },
 "nbformat": 4,
 "nbformat_minor": 5
}
