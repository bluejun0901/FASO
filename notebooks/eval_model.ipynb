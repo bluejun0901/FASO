{
 "cells": [
  {
   "cell_type": "code",
   "execution_count": null,
   "id": "cd7db2ec",
   "metadata": {},
   "outputs": [],
   "source": [
    "import torch\n",
    "from transformers import AutoModelForCausalLM, AutoTokenizer, TrainingArguments, TrainerCallback\n",
    "from trl import AutoModelForCausalLMWithValueHead, DPOTrainer, DPOConfig\n",
    "from huggingface_hub import login\n",
    "\n",
    "from openai import OpenAI\n",
    "from difflib import SequenceMatcher\n",
    "\n",
    "from datasets import Dataset\n",
    "import pandas as pd\n",
    "\n",
    "import os\n",
    "from pathlib import Path\n",
    "from dotenv import load_dotenv\n",
    "\n",
    "import DPO_pairwise_human as dp\n",
    "\n",
    "load_dotenv()\n",
    "PROJECT_ROOT = Path(os.getenv(\"PROJECT_ROOT\")).resolve()\n",
    "MODEL_ROOT = Path(os.getenv(\"MODEL_ROOT\")).resolve()\n",
    "DATA_ROOT = Path(os.getenv(\"DATA_ROOT\")).expanduser().resolve()"
   ]
  },
  {
   "cell_type": "code",
   "execution_count": 2,
   "id": "54dc81f5",
   "metadata": {},
   "outputs": [],
   "source": [
    "device = \"cuda\" if torch.cuda.is_available() else \"cpu\"\n",
    "os.environ[\"CUDA_VISIBLE_DEVICES\"] = \"1\""
   ]
  },
  {
   "cell_type": "code",
   "execution_count": 3,
   "id": "ecb60500",
   "metadata": {},
   "outputs": [
    {
     "name": "stdout",
     "output_type": "stream",
     "text": [
      "Using device: cuda\n",
      "Number of GPUs available: 1\n"
     ]
    }
   ],
   "source": [
    "# show the GPU device and number of GPUs available\n",
    "print(f\"Using device: {device}\")\n",
    "print(f\"Number of GPUs available: {torch.cuda.device_count()}\")"
   ]
  },
  {
   "cell_type": "code",
   "execution_count": 12,
   "id": "23176edf",
   "metadata": {},
   "outputs": [
    {
     "name": "stdout",
     "output_type": "stream",
     "text": [
      "loading model and tokenizer...\n"
     ]
    },
    {
     "name": "stderr",
     "output_type": "stream",
     "text": [
      "Some weights of the model checkpoint at models/test/TinyLlama-1.1B-Chat-v1.0 were not used when initializing LlamaForCausalLM: ['v_head.summary.bias', 'v_head.summary.weight']\n",
      "- This IS expected if you are initializing LlamaForCausalLM from the checkpoint of a model trained on another task or with another architecture (e.g. initializing a BertForSequenceClassification model from a BertForPreTraining model).\n",
      "- This IS NOT expected if you are initializing LlamaForCausalLM from the checkpoint of a model that you expect to be exactly identical (initializing a BertForSequenceClassification model from a BertForSequenceClassification model).\n"
     ]
    },
    {
     "name": "stdout",
     "output_type": "stream",
     "text": [
      "model loaded\n"
     ]
    }
   ],
   "source": [
    "print(\"loading model and tokenizer...\")\n",
    "model_path = MODEL_ROOT / 'test' / 'TinyLlama-1.1B-Chat-v1.0'\n",
    "\n",
    "tokenizer = AutoTokenizer.from_pretrained(str(model_path))\n",
    "model = AutoModelForCausalLMWithValueHead.from_pretrained(str(model_path)).to(device)\n",
    "model.warnings_issued = {}\n",
    "print(\"model loaded\")"
   ]
  },
  {
   "cell_type": "code",
   "execution_count": 13,
   "id": "d0ea1d30",
   "metadata": {},
   "outputs": [
    {
     "name": "stdout",
     "output_type": "stream",
     "text": [
      "loding evaluation dataset...\n",
      "dataset loaded\n"
     ]
    }
   ],
   "source": [
    "print('loding evaluation dataset...')\n",
    "dataset_path = DATA_ROOT / '.kaggle' / 'cnn_dailymail' / 'validation.csv'\n",
    "df = pd.read_csv(dataset_path, nrows=1)\n",
    "df = df[['article', 'highlights']].rename(columns={\n",
    "    'article': 'content',\n",
    "    'highlights': 'answer'\n",
    "})\n",
    "dataset = Dataset.from_pandas(df)\n",
    "print('dataset loaded')"
   ]
  },
  {
   "cell_type": "code",
   "execution_count": 14,
   "id": "6b16c63d",
   "metadata": {},
   "outputs": [
    {
     "name": "stdout",
     "output_type": "stream",
     "text": [
      "Preparing raw data...\n"
     ]
    },
    {
     "name": "stdout",
     "output_type": "stream",
     "text": [
      "Processed: 1/1\n",
      "Raw data preparation complete.\n",
      "Preparing pairwise compared data...\n",
      "Processed: 1/1\n",
      "Pairwise data preparation complete.\n"
     ]
    }
   ],
   "source": [
    "raw_data = dp.prepare_raw_data(model, tokenizer, dataset)\n",
    "\n",
    "pairwise_data = dp.prepare_pairwise_data(raw_data)"
   ]
  },
  {
   "cell_type": "code",
   "execution_count": 15,
   "id": "53907f73",
   "metadata": {},
   "outputs": [],
   "source": [
    "score = dp.compute_win_rate(model, tokenizer, pairwise_data)"
   ]
  },
  {
   "cell_type": "code",
   "execution_count": 9,
   "id": "c21c7867",
   "metadata": {},
   "outputs": [
    {
     "name": "stdout",
     "output_type": "stream",
     "text": [
      "1.0\n"
     ]
    }
   ],
   "source": [
    "print(score)"
   ]
  },
  {
   "cell_type": "code",
   "execution_count": 16,
   "id": "8bc44b59",
   "metadata": {},
   "outputs": [
    {
     "name": "stdout",
     "output_type": "stream",
     "text": [
      "{'prompt': \"Sally Forrest, an actress-dancer who graced the silver screen throughout the '40s and '50s in MGM musicals and films such as the 1956 noir While the City Sleeps died on March 15 at her home in Beverly Hills, California. Forrest, whose birth name was Katherine Feeney, was 86 and had long battled cancer. Her publicist, Judith Goffin, announced the news Thursday. Scroll down for video . Actress: Sally Forrest was in the 1951 Ida Lupino-directed film 'Hard, Fast and Beautiful' (left) and the 1956 Fritz Lang movie 'While the City Sleeps' A San Diego native, Forrest became a protege of Hollywood trailblazer Ida Lupino, who cast her in starring roles in films including the critical and commercial success Not Wanted, Never Fear and Hard, Fast and Beautiful. Some of Forrest's other film credits included Bannerline, Son of Sinbad, and Excuse My Dust, according to her iMDB\\xa0page. The page also indicates Forrest was in multiple Climax! and Rawhide television episodes. Forrest appeared as herself in an episode of The Ed Sullivan Show and three episodes of The Dinah Shore Chevy Show, her iMDB page says. She also starred in a Broadway production of The Seven Year Itch. City News Service reported that other stage credits included As You Like It, No, No, Nanette and Damn Yankees. Forrest married writer-producer Milo Frank in 1951. He died in 2004. She is survived by her niece, Sharon Durham, and nephews, Michael and Mark Feeney. Career: A San Diego native, Forrest became a protege of Hollywood trailblazer Ida Lupino, who cast her in starring roles in films .\", 'response_a': 'Sally Forrest, an actress-dancer who appeared in MGM musicals and films throughout the 1940s and 1950s, died on March 15 at her home in Beverly Hills, California, at the age of 86. Forrest, who was born Katherine Feeney, was a publicist for her publicist, Judith Goffin, who announced the news on her behalf. Her publicist noted', 'response_b': 'Sally Forrest, an actress-dancer who appeared in MGM musicals and films such as the 1956 noir While the City Sleeps, passed away on March 15 at her home in Beverly Hills, California, at the age of 86. Forrest, who was born Katherine Feeney, had battled cancer for several years. She was a protege of Hollywood trailblazer Ida Lupino, who cast', 'answer': \"Sally Forrest, an actress-dancer who graced the silver screen throughout the '40s and '50s in MGM musicals and films died on March 15 .\\nForrest, whose birth name was Katherine Feeney, had long battled cancer .\\nA San Diego native, Forrest became a protege of Hollywood trailblazer Ida Lupino, who cast her in starring roles in films .\"}\n",
      "{'prompt': \"Sally Forrest, an actress-dancer who graced the silver screen throughout the '40s and '50s in MGM musicals and films such as the 1956 noir While the City Sleeps died on March 15 at her home in Beverly Hills, California. Forrest, whose birth name was Katherine Feeney, was 86 and had long battled cancer. Her publicist, Judith Goffin, announced the news Thursday. Scroll down for video . Actress: Sally Forrest was in the 1951 Ida Lupino-directed film 'Hard, Fast and Beautiful' (left) and the 1956 Fritz Lang movie 'While the City Sleeps' A San Diego native, Forrest became a protege of Hollywood trailblazer Ida Lupino, who cast her in starring roles in films including the critical and commercial success Not Wanted, Never Fear and Hard, Fast and Beautiful. Some of Forrest's other film credits included Bannerline, Son of Sinbad, and Excuse My Dust, according to her iMDB\\xa0page. The page also indicates Forrest was in multiple Climax! and Rawhide television episodes. Forrest appeared as herself in an episode of The Ed Sullivan Show and three episodes of The Dinah Shore Chevy Show, her iMDB page says. She also starred in a Broadway production of The Seven Year Itch. City News Service reported that other stage credits included As You Like It, No, No, Nanette and Damn Yankees. Forrest married writer-producer Milo Frank in 1951. He died in 2004. She is survived by her niece, Sharon Durham, and nephews, Michael and Mark Feeney. Career: A San Diego native, Forrest became a protege of Hollywood trailblazer Ida Lupino, who cast her in starring roles in films .\", 'chosen': 'Sally Forrest, an actress-dancer who appeared in MGM musicals and films such as the 1956 noir While the City Sleeps, passed away on March 15 at her home in Beverly Hills, California, at the age of 86. Forrest, who was born Katherine Feeney, had battled cancer for several years. She was a protege of Hollywood trailblazer Ida Lupino, who cast', 'rejected': 'Sally Forrest, an actress-dancer who appeared in MGM musicals and films throughout the 1940s and 1950s, died on March 15 at her home in Beverly Hills, California, at the age of 86. Forrest, who was born Katherine Feeney, was a publicist for her publicist, Judith Goffin, who announced the news on her behalf. Her publicist noted'}\n"
     ]
    }
   ],
   "source": [
    "print(raw_data[0])\n",
    "print(pairwise_data[0])"
   ]
  }
 ],
 "metadata": {
  "kernelspec": {
   "display_name": "Python 3",
   "language": "python",
   "name": "python3"
  },
  "language_info": {
   "codemirror_mode": {
    "name": "ipython",
    "version": 3
   },
   "file_extension": ".py",
   "mimetype": "text/x-python",
   "name": "python",
   "nbconvert_exporter": "python",
   "pygments_lexer": "ipython3",
   "version": "3.11.11"
  }
 },
 "nbformat": 4,
 "nbformat_minor": 5
}