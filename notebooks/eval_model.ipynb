{
 "cells": [
  {
   "cell_type": "code",
   "execution_count": null,
   "id": "cd7db2ec",
   "metadata": {},
   "outputs": [],
   "source": [
    "import torch\n",
    "from transformers import AutoModelForCausalLM, AutoTokenizer, TrainingArguments, TrainerCallback\n",
    "from trl import AutoModelForCausalLMWithValueHead, DPOTrainer, DPOConfig\n",
    "from huggingface_hub import login\n",
    "\n",
    "from openai import OpenAI\n",
    "from difflib import SequenceMatcher\n",
    "\n",
    "from datasets import Dataset\n",
    "import pandas as pd\n",
    "\n",
    "import os\n",
    "from pathlib import Path\n",
    "from dotenv import load_dotenv\n",
    "\n",
    "import DPO_pairwise_human as dp\n",
    "\n",
    "load_dotenv()\n",
    "PROJECT_ROOT = Path(os.getenv(\"PROJECT_ROOT\")).resolve()\n",
    "MODEL_ROOT = Path(os.getenv(\"MODEL_ROOT\")).resolve()\n",
    "DATA_ROOT = Path(os.getenv(\"DATA_ROOT\")).expanduser().resolve()"
   ]
  },
  {
   "cell_type": "code",
   "execution_count": null,
   "id": "54dc81f5",
   "metadata": {},
   "outputs": [],
   "source": [
    "device = \"cuda\" if torch.cuda.is_available() else \"cpu\"\n",
    "os.environ[\"CUDA_VISIBLE_DEVICES\"] = \"1\""
   ]
  },
  {
   "cell_type": "code",
   "execution_count": null,
   "id": "ecb60500",
   "metadata": {},
   "outputs": [],
   "source": [
    "# show the GPU device and number of GPUs available\n",
    "print(f\"Using device: {device}\")\n",
    "print(f\"Number of GPUs available: {torch.cuda.device_count()}\")"
   ]
  },
  {
   "cell_type": "code",
   "execution_count": null,
   "id": "23176edf",
   "metadata": {},
   "outputs": [],
   "source": [
    "print(\"loading model and tokenizer...\")\n",
    "model_path = MODEL_ROOT / 'test' / 'TinyLlama-1.1B-Chat-v1.0'\n",
    "\n",
    "tokenizer = AutoTokenizer.from_pretrained(str(model_path))\n",
    "model = AutoModelForCausalLMWithValueHead.from_pretrained(str(model_path)).to(device)\n",
    "model.warnings_issued = {}\n",
    "print(\"model loaded\")"
   ]
  },
  {
   "cell_type": "code",
   "execution_count": null,
   "id": "d0ea1d30",
   "metadata": {},
   "outputs": [],
   "source": [
    "print('loding evaluation dataset...')\n",
    "dataset_path = DATA_ROOT / '.kaggle' / 'cnn_dailymail' / 'validation.csv'\n",
    "df = pd.read_csv(dataset_path, nrows=1)\n",
    "df = df[['article', 'highlights']].rename(columns={\n",
    "    'article': 'content',\n",
    "    'highlights': 'answer'\n",
    "})\n",
    "dataset = Dataset.from_pandas(df)\n",
    "print('dataset loaded')"
   ]
  },
  {
   "cell_type": "code",
   "execution_count": null,
   "id": "6b16c63d",
   "metadata": {},
   "outputs": [],
   "source": [
    "raw_data = dp.prepare_raw_data(model, tokenizer, dataset)\n",
    "\n",
    "pairwise_data = dp.prepare_pairwise_data(raw_data)"
   ]
  },
  {
   "cell_type": "code",
   "execution_count": null,
   "id": "53907f73",
   "metadata": {},
   "outputs": [],
   "source": [
    "score = dp.compute_win_rate(model, tokenizer, pairwise_data)"
   ]
  },
  {
   "cell_type": "code",
   "execution_count": null,
   "id": "c21c7867",
   "metadata": {},
   "outputs": [],
   "source": [
    "print(score)"
   ]
  },
  {
   "cell_type": "code",
   "execution_count": null,
   "id": "8bc44b59",
   "metadata": {},
   "outputs": [],
   "source": [
    "print(raw_data[0])\n",
    "print(pairwise_data[0])"
   ]
  }
 ],
 "metadata": {
  "kernelspec": {
   "display_name": "Python 3",
   "language": "python",
   "name": "python3"
  },
  "language_info": {
   "codemirror_mode": {
    "name": "ipython",
    "version": 3
   },
   "file_extension": ".py",
   "mimetype": "text/x-python",
   "name": "python",
   "nbconvert_exporter": "python",
   "pygments_lexer": "ipython3",
   "version": "3.11.11"
  }
 },
 "nbformat": 4,
 "nbformat_minor": 5
}
