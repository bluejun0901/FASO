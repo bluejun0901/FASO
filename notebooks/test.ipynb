{
 "cells": [
  {
   "cell_type": "code",
   "execution_count": 1,
   "id": "06f4ee09",
   "metadata": {
    "tags": []
   },
   "outputs": [
    {
     "name": "stderr",
     "output_type": "stream",
     "text": [
      "Note: Environment variable`HF_TOKEN` is set and is the current active token independently from the token you've just configured.\n"
     ]
    }
   ],
   "source": [
    "from transformers import AutoModelForCausalLM, AutoTokenizer\n",
    "from huggingface_hub import login\n",
    "from datasets import Dataset\n",
    "import pandas as pd\n",
    "import torch\n",
    "from pathlib import Path\n",
    "from dotenv import load_dotenv\n",
    "import os\n",
    "\n",
    "load_dotenv()\n",
    "PROJECT_ROOT = Path(os.getenv('PROJECT_ROOT')).resolve()\n",
    "MODEL_ROOT = Path(os.getenv('MODEL_ROOT')).resolve()\n",
    "DATA_ROOT = Path(os.getenv('DATA_ROOT')).expanduser().resolve()\n",
    "\n",
    "login(token=os.getenv(\"HF_TOKEN\"))"
   ]
  },
  {
   "cell_type": "code",
   "execution_count": 2,
   "id": "63a5031a",
   "metadata": {},
   "outputs": [],
   "source": [
    "device = torch.device(\"cuda\" if torch.cuda.is_available() else \"cpu\")\n",
    "# model_path = Path(str(os.getenv(\"MODEL_ROOT\"))).resolve() / 'sft' / 'TinyLlama' / 'TinyLlama-1.1B-Chat-v1.0'\n",
    "model_path = MODEL_ROOT / 'finetuned' / 'TinyLlama' / 'TinyLlama-1.1B-Chat-v1.0' / 'checkpoint-53835'\n",
    "model_path = str(model_path)\n",
    "\n",
    "tokenizer = AutoTokenizer.from_pretrained(model_path)\n",
    "model = AutoModelForCausalLM.from_pretrained(model_path).to(device)\n",
    "model.warnings_issued = {}"
   ]
  },
  {
   "cell_type": "code",
   "execution_count": 4,
   "id": "6570e307",
   "metadata": {},
   "outputs": [],
   "source": [
    "dataset_path = DATA_ROOT / '.kaggle' / 'cnn_dailymail'\n",
    "df = pd.read_csv(str(dataset_path / 'test.csv'))\n",
    "dataset = Dataset.from_pandas(df)"
   ]
  },
  {
   "cell_type": "code",
   "execution_count": 5,
   "id": "7acb9d37",
   "metadata": {},
   "outputs": [
    {
     "name": "stdout",
     "output_type": "stream",
     "text": [
      "Experts question if  packed out planes are putting passengers at risk .\n",
      "U.S consumer advisory group says minimum space must be stipulated .\n",
      "Safety tests conducted on planes with more leg room than airlines offer .\n",
      "11490\n"
     ]
    }
   ],
   "source": [
    "print(dataset[0]['highlights'])\n",
    "print(len(dataset))"
   ]
  },
  {
   "cell_type": "code",
   "execution_count": 5,
   "id": "d4962538",
   "metadata": {},
   "outputs": [
    {
     "name": "stdout",
     "output_type": "stream",
     "text": [
      "<|user|>\n",
      "jjj\n",
      " \n",
      "<|assistant|>\n",
      "The 2014 Formula 1 season starts this weekend in Australia .\n",
      "The opening race of the new season is in Melbourne .\n",
      "The Australian Grand Prix takes place between October 16 and October 28 .\n"
     ]
    }
   ],
   "source": [
    "# test\n",
    "messages = [\n",
    "    {\n",
    "        \"role\": \"user\", \n",
    "        \"content\": \"jjj\\n\" \n",
    "    }\n",
    "]\n",
    "prompt = tokenizer.apply_chat_template(messages, tokenize=False, add_generation_prompt=True)\n",
    "\n",
    "input_ids = tokenizer.encode(prompt, return_tensors=\"pt\").to(device)\n",
    "\n",
    "output_ids = model.generate(input_ids, max_new_tokens=400)\n",
    "output_text = tokenizer.decode(output_ids[0], skip_special_tokens=True)\n",
    "\n",
    "print(output_text)"
   ]
  },
  {
   "cell_type": "code",
   "execution_count": 7,
   "id": "bfa234b5",
   "metadata": {},
   "outputs": [],
   "source": [
    "def get_summary_no_prompt(content, model):\n",
    "    message = [\n",
    "        {\n",
    "            \"role\": \"user\",\n",
    "            \"content\": content\n",
    "        }\n",
    "    ]\n",
    "    prompt = tokenizer.apply_chat_template(message, tokenize=False, add_generation_prompt=True)\n",
    "\n",
    "    input_ids = tokenizer.encode(prompt, return_tensors=\"pt\").to(device)\n",
    "    attention_mask = torch.ones_like(input_ids)\n",
    "    \n",
    "    output_ids = model.generate(\n",
    "        input_ids,\n",
    "        attention_mask=attention_mask,\n",
    "        max_new_tokens=500,\n",
    "        do_sample=True,\n",
    "        temperature=0.7,\n",
    "        top_p=0.95,\n",
    "        top_k=50,\n",
    "        num_return_sequences=1,\n",
    "        pad_token_id=tokenizer.eos_token_id\n",
    "    )  \n",
    "    output_text = tokenizer.decode(output_ids[0], skip_special_tokens=True)\n",
    "\n",
    "    assistant_tag = \"<|assistant|>\"\n",
    "    if assistant_tag in output_text:\n",
    "        output_text = output_text.split(assistant_tag, 1)[1].strip()\n",
    "\n",
    "    return output_text, output_ids.shape[-1] - input_ids.shape[-1]"
   ]
  },
  {
   "cell_type": "code",
   "execution_count": 10,
   "id": "fece1beb",
   "metadata": {},
   "outputs": [],
   "source": [
    "def get_summary(content, model):\n",
    "    message = [\n",
    "        {\n",
    "            \"role\": \"user\",\n",
    "            # \"content\": f\"Summarize the following text in a TL;DR style in one sentence\\n\\n{content}\\n\",\n",
    "            \"content\": f\"TL;DR: \\n\\n{content}\\n\"\n",
    "        }\n",
    "    ]\n",
    "    prompt = tokenizer.apply_chat_template(message, tokenize=False, add_generation_prompt=True)\n",
    "\n",
    "    input_ids = tokenizer.encode(prompt, return_tensors=\"pt\").to(device)\n",
    "    attention_mask = torch.ones_like(input_ids)\n",
    "    \n",
    "    output_ids = model.generate(\n",
    "        input_ids,\n",
    "        attention_mask=attention_mask,\n",
    "        max_new_tokens=500,\n",
    "        do_sample=True,\n",
    "        temperature=1.3,\n",
    "        top_p=0.95,\n",
    "        top_k=50,\n",
    "        num_return_sequences=1,\n",
    "        pad_token_id=tokenizer.eos_token_id\n",
    "    )  \n",
    "    output_text = tokenizer.decode(output_ids[0], skip_special_tokens=True)\n",
    "\n",
    "    assistant_tag = \"<|assistant|>\"\n",
    "    if assistant_tag in output_text:\n",
    "        output_text = output_text.split(assistant_tag, 1)[1].strip()\n",
    "\n",
    "    return output_text, output_ids.shape[-1] - input_ids.shape[-1]"
   ]
  },
  {
   "cell_type": "code",
   "execution_count": null,
   "id": "70c2722a",
   "metadata": {},
   "outputs": [],
   "source": [
    "avarge_length = 0\n",
    "for i in range(1000):\n",
    "    content = dataset[i]['article']\n",
    "    length = tokenizer.encode(content, return_tensors=\"pt\").shape[-1]\n",
    "    avarge_length += length\n",
    "print(f\"Average length of articles: {avarge_length / 1000}\")"
   ]
  },
  {
   "cell_type": "code",
   "execution_count": 11,
   "id": "5ea91bca",
   "metadata": {},
   "outputs": [
    {
     "name": "stdout",
     "output_type": "stream",
     "text": [
      "prompt 2\n",
      "Dougie Freedman is on the verge of agreeing a new two-year deal to remain at Nottingham Forest. Freedman has stabilised Forest since he replaced cult hero Stuart Pearce and the club's owners are pleased with the job he has done at the City Ground. Dougie Freedman is set to sign a new deal at Nottingham Forest . Freedman has impressed at the City Ground since replacing Stuart Pearce in February . They made an audacious attempt on the play-off places when Freedman replaced Pearce but have tailed off in recent weeks. That has not prevented Forest's ownership making moves to secure Freedman on a contract for the next two seasons.\n",
      "summary 1\n",
      "Fweek-long freebone has been at Nottingham Forest since December .\n",
      "That is because of the job he has done with the club as well as the owners .\n",
      "His future should be in the hands of the new two-year deal . \n",
      " 55\n",
      "summary 2\n",
      "Freedman is set to sign new deal at Nottingham Forest .\n",
      "The former Man United man has been at the East East London club since 2006 .\n",
      "And now the 39-year-old is set to sign a contract for the next two seasons .\n",
      "Football club take-favour  means Freedman will have a host of clubs interested in him . \n",
      " 84\n",
      "summary 3\n",
      "Dougie Freedman is set to sign a new deal at Nottingham Forest .\n",
      "The 29-year-old is on the verge of agreeing a contract extension .\n",
      "Freedman was recently offered an improved deal by the club.\n",
      "The 29-year-old only became the manager in February . \n",
      " 71\n",
      "summary 4\n",
      "Dougie Freedman will sign a new deal at Nottingham Forest .\n",
      " Freund Kurdin has been with the East Midlands club since February .\n",
      "Stuart Pearce left  by mutual consent after poor World Cup display with Peru . \n",
      " 53\n",
      "summary 5\n",
      "Freedman is on the verge of penning a new deal at Nottingham Forest .\n",
      "The 29-year-old has been at the City Ground since February .\n",
      "Real Madrid were also interested in Freedman but are said to have been ahead . \n",
      " 58\n",
      "prompt 3\n",
      "Liverpool target Neto is also wanted by PSG and clubs in Spain as Brendan Rodgers faces stiff competition to land the Fiorentina goalkeeper, according to the Brazilian's agent Stefano Castagna. The Reds were linked with a move for the 25-year-old, whose contract expires in June, earlier in the season when Simon Mignolet was dropped from the side. A January move for Neto never materialised but the former Atletico Paranaense keeper looks certain to leave the Florence-based club in the summer. Neto rushes from his goal as Juan Iturbe bears down on him during Fiorentina's clash with Roma in March . Neto is wanted by a number of top European clubs including Liverpool and PSG, according to his agent . It had been reported that Neto had a verbal agreement to join Serie A champions Juventus at the end of the season but his agent has revealed no decision about his future has been made yet. And Castagna claims Neto will have his pick of top European clubs when the transfer window re-opens in the summer, including Brendan Rodgers' side. 'There are many European clubs interested in Neto, such as for example Liverpool and Paris Saint-Germain,' Stefano Castagna is quoted as saying by Gazzetta TV. Firoentina goalkeeper Neto saves at the feet of Tottenham midfielder Nacer Chadli in the Europa League . 'In Spain too there are clubs at the very top level who are tracking him. Real Madrid? We'll see. 'We have not made a definitive decision, but in any case he will not accept another loan move elsewhere.' Neto, who represented Brazil at the London 2012 Olympics but has not featured for the senior side, was warned against joining a club as a No 2 by national coach Dunga. Neto joined Fiorentina from Atletico Paranaense in 2011 and established himself as No1 in the last two seasons.\n",
      "summary 1\n",
      "Liverpool were targeted by Spanish side ahead of transfer deadline .\n",
      "Brazilian was dropped from favour at Fiorentina, and contract expires in June .\n",
      "Neto is one of the most wanted goalscorers in the Premier League and could leave PSG .\n",
      "PSG and Liverpool reportedly interested in signing the midfielder . \n",
      " 75\n",
      "summary 2\n",
      "Former Chelsea target Neto is linked with a move to top European clubs in Spain .\n",
      "Liverpool and PSG are interested in signing the 25-year-old goalkeeper .\n",
      "His agent has confirmed a move to Serie A champions Juventus will not yet go ahead . \n",
      " 64\n",
      "summary 3\n",
      "Neto has been linked with PSG and other top clubs as Brazilian brendan Rodgers goes into contract in the summer .\n",
      "The 25-year-old's contract at Fiorentina expires at the end of this season .\n",
      "Liverpool, PSG and PSG were interested in signing the keeper .\n",
      "But his agent, from Germany, failed in bringing him to Italy .\n",
      "Castagna says his clients include Ludimir, Necer, Marcos Rojo, Cesc Fabregas, Brendan Rodgers,... and Real Madrid, as well as Stepeke Knappett .\n",
      "He leaves the Fiorentina goalkeeper over the summer, and he has now made two huge decisions to pick of Europe's top clubs .\n",
      "It is understood, but it is unlikely he will agree to join another new club after his deal expires .\n",
      "Brazilian has also been linked with PSG and Spanish top clubs after leaving Fiorentina .\n",
      "Castagna claims  Real Madrid are the only club to conclude deal . \n",
      " 232\n",
      "summary 4\n",
      "Liverpool and PSG have been a number of top clubs linked with the goalkeeper .\n",
      "The 25-year-old recently expired himself at Fiorentina, making it unlikely they will sign another keeper in any of the host clubs .\n",
      "Lasacker was a transfer target for Juventus, who lost 2-1 at the club last season .\n",
      "Neto is not currently contracted and can leave in the summer .\n",
      "His agentStefano Castagna says Neto has been linked with many top European clubs, but his agent has revealed nothing out of the former Atletico Paranaense goalkeeper .\n",
      "Portugal striker was a target for PSG and a recent Nou Camp .\n",
      "Stefano Castagna says, in the past, it has been reported that he has been out on loan at several top European clubs to Roma .\n",
      "The Brazilian keeper was told by his agent that he wanted to leave Serie A . \n",
      " 207\n",
      "summary 5\n",
      "Liverpool are keen to sign PSG goalkeeper Neto .\n",
      "The Reds have been linked with a move for the 25-year-old .\n",
      "The move for Neto - who hasn't played for Fiorentina -- is expected to last . \n",
      " 58\n"
     ]
    }
   ],
   "source": [
    "for k in [2, 3]:\n",
    "    print(\"prompt\", k)\n",
    "    print(dataset[k]['article'])\n",
    "    for i in range(1, 6):\n",
    "        print(f\"summary {i}\")\n",
    "        summary, _ = get_summary(dataset[k]['article'], model)\n",
    "        print(summary, \"\\n\", _)"
   ]
  },
  {
   "cell_type": "code",
   "execution_count": null,
   "id": "934b7b36-6379-4f0e-818f-60100380fd24",
   "metadata": {},
   "outputs": [],
   "source": []
  }
 ],
 "metadata": {
  "kernelspec": {
   "display_name": "llm_dag_allign",
   "language": "python",
   "name": "python3"
  },
  "language_info": {
   "codemirror_mode": {
    "name": "ipython",
    "version": 3
   },
   "file_extension": ".py",
   "mimetype": "text/x-python",
   "name": "python",
   "nbconvert_exporter": "python",
   "pygments_lexer": "ipython3",
   "version": "3.11.11"
  }
 },
 "nbformat": 4,
 "nbformat_minor": 5
}
