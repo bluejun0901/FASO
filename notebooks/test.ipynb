{
 "cells": [
  {
   "cell_type": "code",
   "execution_count": null,
   "id": "06f4ee09",
   "metadata": {},
   "outputs": [],
   "source": [
    "from transformers import AutoModelForCausalLM, AutoTokenizer\n",
    "from huggingface_hub import login\n",
    "from datasets import Dataset\n",
    "import pandas as pd\n",
    "import torch\n",
    "from pathlib import Path\n",
    "from dotenv import load_dotenv\n",
    "\n",
    "load_dotenv()\n",
    "PROJECT_ROOT = Path(os.getenv('PROJECT_ROOT')).resolve()\n",
    "MODEL_ROOT = Path(os.getenv('MODEL_ROOT')).resolve()\n",
    "DATA_ROOT = Path(os.getenv('DATA_ROOT')).expanduser().resolve()\n",
    "\n",
    "import os\n",
    "\n",
    "login(token=os.getenv(\"HF_TOKEN\"))"
   ]
  },
  {
   "cell_type": "code",
   "execution_count": null,
   "id": "63a5031a",
   "metadata": {},
   "outputs": [],
   "source": [
    "device = torch.device(\"cuda\" if torch.cuda.is_available() else \"cpu\")\n",
    "# model_path = Path(str(os.getenv(\"MODEL_ROOT\"))).resolve() / 'sft' / 'TinyLlama' / 'TinyLlama-1.1B-Chat-v1.0'\n",
    "model_path = MODEL_ROOT / 'finetuned-no-prompt' / 'TinyLlama' / 'TinyLlama-1.1B-Chat-v1.0' / 'checkpoint-189'\n",
    "model_path = str(model_path)\n",
    "\n",
    "tokenizer = AutoTokenizer.from_pretrained(model_path)\n",
    "model = AutoModelForCausalLM.from_pretrained(model_path).to(device)\n",
    "model.warnings_issued = {}"
   ]
  },
  {
   "cell_type": "code",
   "execution_count": null,
   "id": "6570e307",
   "metadata": {},
   "outputs": [],
   "source": [
    "dataset_path = DATA_ROOT / '.kaggle' / 'cnn_dailymail'\n",
    "df = pd.read_csv(str(dataset_path / 'train.csv'))\n",
    "dataset = Dataset.from_pandas(df)"
   ]
  },
  {
   "cell_type": "code",
   "execution_count": null,
   "id": "7acb9d37",
   "metadata": {},
   "outputs": [],
   "source": [
    "print(dataset[0]['highlights'])\n",
    "print(len(dataset))"
   ]
  },
  {
   "cell_type": "code",
   "execution_count": null,
   "id": "d4962538",
   "metadata": {},
   "outputs": [],
   "source": [
    "# test\n",
    "messages = [\n",
    "    {\n",
    "        \"role\": \"user\", \n",
    "        \"content\": \"tell me about some amazing facts\\n\" \n",
    "    }\n",
    "]\n",
    "prompt = tokenizer.apply_chat_template(messages, tokenize=False, add_generation_prompt=True)\n",
    "\n",
    "input_ids = tokenizer.encode(prompt, return_tensors=\"pt\").to(device)\n",
    "\n",
    "output_ids = model.generate(input_ids, max_new_tokens=400)\n",
    "output_text = tokenizer.decode(output_ids[0], skip_special_tokens=True)\n",
    "\n",
    "print(output_text)"
   ]
  },
  {
   "cell_type": "code",
   "execution_count": null,
   "id": "bfa234b5",
   "metadata": {},
   "outputs": [],
   "source": [
    "def get_summary_no_prompt(content, model):\n",
    "    message = [\n",
    "        {\n",
    "            \"role\": \"user\",\n",
    "            \"content\": content\n",
    "        }\n",
    "    ]\n",
    "    prompt = tokenizer.apply_chat_template(message, tokenize=False, add_generation_prompt=True)\n",
    "\n",
    "    input_ids = tokenizer.encode(prompt, return_tensors=\"pt\").to(device)\n",
    "    attention_mask = torch.ones_like(input_ids)\n",
    "    \n",
    "    output_ids = model.generate(\n",
    "        input_ids,\n",
    "        attention_mask=attention_mask,\n",
    "        max_new_tokens=500,\n",
    "        do_sample=True,\n",
    "        temperature=0.7,\n",
    "        top_p=0.95,\n",
    "        top_k=50,\n",
    "        num_return_sequences=1,\n",
    "        pad_token_id=tokenizer.eos_token_id\n",
    "    )  \n",
    "    output_text = tokenizer.decode(output_ids[0], skip_special_tokens=True)\n",
    "\n",
    "    assistant_tag = \"<|assistant|>\"\n",
    "    if assistant_tag in output_text:\n",
    "        output_text = output_text.split(assistant_tag, 1)[1].strip()\n",
    "\n",
    "    return output_text, output_ids.shape[-1] - input_ids.shape[-1]"
   ]
  },
  {
   "cell_type": "code",
   "execution_count": null,
   "id": "fece1beb",
   "metadata": {},
   "outputs": [],
   "source": [
    "def get_summary(content, model):\n",
    "    message = [\n",
    "        {\n",
    "            \"role\": \"user\",\n",
    "            \"content\": f\"Summarize the following text in a TL;DR style in one sentence\\n\\n{content}\\n\"\n",
    "        }\n",
    "    ]\n",
    "    prompt = tokenizer.apply_chat_template(message, tokenize=False, add_generation_prompt=True)\n",
    "\n",
    "    input_ids = tokenizer.encode(prompt, return_tensors=\"pt\").to(device)\n",
    "    attention_mask = torch.ones_like(input_ids)\n",
    "    \n",
    "    output_ids = model.generate(\n",
    "        input_ids,\n",
    "        attention_mask=attention_mask,\n",
    "        max_new_tokens=500,\n",
    "        do_sample=True,\n",
    "        temperature=0.7,\n",
    "        top_p=0.95,\n",
    "        top_k=50,\n",
    "        num_return_sequences=1,\n",
    "        pad_token_id=tokenizer.eos_token_id\n",
    "    )  \n",
    "    output_text = tokenizer.decode(output_ids[0], skip_special_tokens=True)\n",
    "\n",
    "    assistant_tag = \"<|assistant|>\"\n",
    "    if assistant_tag in output_text:\n",
    "        output_text = output_text.split(assistant_tag, 1)[1].strip()\n",
    "\n",
    "    return output_text, output_ids.shape[-1] - input_ids.shape[-1]"
   ]
  },
  {
   "cell_type": "code",
   "execution_count": null,
   "id": "70c2722a",
   "metadata": {},
   "outputs": [],
   "source": [
    "avarge_length = 0\n",
    "for i in range(1000):\n",
    "    content = dataset[i]['article']\n",
    "    length = tokenizer.encode(content, return_tensors=\"pt\").shape[-1]\n",
    "    avarge_length += length\n",
    "print(f\"Average length of articles: {avarge_length / 1000}\")"
   ]
  },
  {
   "cell_type": "code",
   "execution_count": null,
   "id": "5ea91bca",
   "metadata": {},
   "outputs": [],
   "source": [
    "print(\"prompt 1\")\n",
    "print(dataset[0]['article'])\n",
    "for i in range(1, 6):\n",
    "    print(f\"summary {i}\")\n",
    "    summary, _ = get_summary_no_prompt(dataset[0]['article'], model)\n",
    "    print(summary, \"\\n\", _)\n",
    "\n",
    "print()\n",
    "print(\"prompt 2\")\n",
    "print(dataset[1]['article'])\n",
    "for i in range(1, 6):\n",
    "    print(f\"summary {i}\")\n",
    "    summary, _ = get_summary_no_prompt(dataset[1]['highlights'], model)\n",
    "    print(summary, \"\\n\", _)"
   ]
  }
 ],
 "metadata": {
  "kernelspec": {
   "display_name": "Python 3",
   "language": "python",
   "name": "python3"
  },
  "language_info": {
   "codemirror_mode": {
    "name": "ipython",
    "version": 3
   },
   "file_extension": ".py",
   "mimetype": "text/x-python",
   "name": "python",
   "nbconvert_exporter": "python",
   "pygments_lexer": "ipython3",
   "version": "3.11.11"
  }
 },
 "nbformat": 4,
 "nbformat_minor": 5
}
