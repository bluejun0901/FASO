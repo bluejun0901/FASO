{
 "cells": [
  {
   "cell_type": "code",
   "execution_count": 8,
   "id": "06f4ee09",
   "metadata": {},
   "outputs": [
    {
     "name": "stderr",
     "output_type": "stream",
     "text": [
      "Note: Environment variable`HF_TOKEN` is set and is the current active token independently from the token you've just configured.\n"
     ]
    }
   ],
   "source": [
    "from transformers import AutoModelForCausalLM, AutoTokenizer\n",
    "from huggingface_hub import login\n",
    "from datasets import Dataset\n",
    "import pandas as pd\n",
    "import torch\n",
    "from pathlib import Path\n",
    "from dotenv import load_dotenv\n",
    "\n",
    "load_dotenv()\n",
    "\n",
    "import os\n",
    "\n",
    "login(token=os.getenv(\"HF_TOKEN\"))"
   ]
  },
  {
   "cell_type": "code",
   "execution_count": 49,
   "id": "63a5031a",
   "metadata": {},
   "outputs": [],
   "source": [
    "device = torch.device(\"cuda\" if torch.cuda.is_available() else \"cpu\")\n",
    "# model_path = Path(str(os.getenv(\"MODEL_ROOT\"))).resolve() / 'sft' / 'TinyLlama' / 'TinyLlama-1.1B-Chat-v1.0'\n",
    "model_path = Path(str(os.getenv(\"MODEL_ROOT\"))).resolve() / 'finetuned' / 'TinyLlama' / 'TinyLlama-1.1B-Chat-v1.0' / 'checkpoint-3'\n",
    "model_path = str(model_path)\n",
    "\n",
    "tokenizer = AutoTokenizer.from_pretrained(model_path)\n",
    "model = AutoModelForCausalLM.from_pretrained(model_path).to(device)\n",
    "model.warnings_issued = {}"
   ]
  },
  {
   "cell_type": "code",
   "execution_count": 25,
   "id": "6570e307",
   "metadata": {},
   "outputs": [],
   "source": [
    "dataset_path = Path(os.getenv(\"DATA_ROOT\")) / \".kaggle\" / \"cnn_dailymail\"\n",
    "df = pd.read_csv(str(dataset_path / \"test.csv\"))\n",
    "dataset = Dataset.from_pandas(df)"
   ]
  },
  {
   "cell_type": "code",
   "execution_count": 6,
   "id": "7acb9d37",
   "metadata": {},
   "outputs": [
    {
     "name": "stdout",
     "output_type": "stream",
     "text": [
      "Experts question if  packed out planes are putting passengers at risk .\n",
      "U.S consumer advisory group says minimum space must be stipulated .\n",
      "Safety tests conducted on planes with more leg room than airlines offer .\n"
     ]
    }
   ],
   "source": [
    "print(dataset[0]['highlights'])"
   ]
  },
  {
   "cell_type": "code",
   "execution_count": 43,
   "id": "d4962538",
   "metadata": {},
   "outputs": [
    {
     "name": "stdout",
     "output_type": "stream",
     "text": [
      "<|user|>\n",
      "hello? who are you?\n",
      " \n",
      "<|assistant|>\n",
      "Hello! I'm a chatbot that can help you with any questions you may have. To get started, simply type \"hello\" in the chat window and I'll respond with a greeting in return. If you have any questions, feel free to ask. I'm always here to help!\n"
     ]
    }
   ],
   "source": [
    "# test\n",
    "messages = [\n",
    "    {\n",
    "        \"role\": \"user\", \n",
    "        \"content\": \"hello? who are you?\\n\" \n",
    "    }\n",
    "]\n",
    "prompt = tokenizer.apply_chat_template(messages, tokenize=False, add_generation_prompt=True)\n",
    "\n",
    "input_ids = tokenizer.encode(prompt, return_tensors=\"pt\").to(device)\n",
    "\n",
    "output_ids = model.generate(input_ids, max_new_tokens=400)\n",
    "output_text = tokenizer.decode(output_ids[0], skip_special_tokens=True)\n",
    "\n",
    "print(output_text)"
   ]
  },
  {
   "cell_type": "code",
   "execution_count": null,
   "id": "fece1beb",
   "metadata": {},
   "outputs": [],
   "source": [
    "def get_summary(content, model):\n",
    "    message = [\n",
    "        {\n",
    "            \"role\": \"user\",\n",
    "            \"content\": f\"Summarize the following text in a TL;DR style in one sentence\\n\\n{content}\\n\"\n",
    "        }\n",
    "    ]\n",
    "    prompt = tokenizer.apply_chat_template(message, tokenize=False, add_generation_prompt=True)\n",
    "\n",
    "    input_ids = tokenizer.encode(prompt, return_tensors=\"pt\").to(device)\n",
    "    attention_mask = torch.ones_like(input_ids)\n",
    "    \n",
    "    output_ids = model.generate(\n",
    "        input_ids,\n",
    "        attention_mask=attention_mask,\n",
    "        max_new_tokens=500,\n",
    "        do_sample=False,\n",
    "        # temperature=0.7,\n",
    "        top_p=0.95,\n",
    "        top_k=50,\n",
    "        num_return_sequences=1,\n",
    "        pad_token_id=tokenizer.eos_token_id\n",
    "    )  \n",
    "    output_text = tokenizer.decode(output_ids[0], skip_special_tokens=True)\n",
    "\n",
    "    assistant_tag = \"<|assistant|>\"\n",
    "    if assistant_tag in output_text:\n",
    "        output_text = output_text.split(assistant_tag, 1)[1].strip()\n",
    "\n",
    "    return output_text, output_ids.shape[-1] - input_ids.shape[-1]"
   ]
  },
  {
   "cell_type": "code",
   "execution_count": 51,
   "id": "507ea36b",
   "metadata": {},
   "outputs": [
    {
     "name": "stderr",
     "output_type": "stream",
     "text": [
      "The following generation flags are not valid and may be ignored: ['top_p']. Set `TRANSFORMERS_VERBOSITY=info` for more details.\n"
     ]
    },
    {
     "name": "stdout",
     "output_type": "stream",
     "text": [
      "<|user|>\n",
      "Summarize the following text in a TL;DR style in one sentence\n",
      "\n",
      "Ever noticed how plane seats appear to be getting smaller and smaller? With increasing numbers of people taking to the skies, some experts are questioning if having such packed out planes is putting passengers at risk. They say that the shrinking space on aeroplanes is not only uncomfortable - it's putting our health and safety in danger. More than squabbling over the arm rest, shrinking space on planes putting our health and safety in danger? This week, a U.S consumer advisory group set up by the Department of Transportation said at a public hearing that while the government is happy to set standards for animals flying on planes, it doesn't stipulate a minimum amount of space for humans. 'In a world where animals have more rights to space and food than humans,' said Charlie Leocha, consumer representative on the committee. 'It is time that the DOT and FAA take a stand for humane treatment of passengers.' But could crowding on planes lead to more serious issues than fighting for space in the overhead lockers, crashing elbows and seat back kicking? Tests conducted by the FAA use planes with a 31 inch pitch, a standard which on some airlines has decreased . Many economy seats on United Airlines have 30 inches of room, while some airlines offer as little as 28 inches . Cynthia Corbertt, a human factors researcher with the Federal Aviation Administration, that it conducts tests on how quickly passengers can leave a plane. But these tests are conducted using planes with 31 inches between each row of seats, a standard which on some airlines has decreased, reported the Detroit News. The distance between two seats from one point on a seat to the same point on the seat behind it is known as the pitch. While most airlines stick to a pitch of 31 inches or above, some fall below this. While United Airlines has 30 inches of space, Gulf Air economy seats have between 29 and 32 inches, Air Asia offers 29 inches and Spirit Airlines offers just 28 inches. British Airways has a seat pitch of 31 inches, while easyJet has 29 inches, Thomson's short haul seat pitch is 28 inches, and Virgin Atlantic's is 30-31.\n",
      " \n",
      "<|assistant|>\n",
      "A U.S. Consumer Advisory Group set up by the Department of Transportation has raised concerns about the shrinking space on aeroplanes, particularly for passengers. The group, which was formed by the Department of Transportation in response to a consumer complaint, has recommended that the government set minimum standards for the amount of space available for humans on planes. The group's report, published in June 2019, stated that while the government is happy to set standards for animals flying on planes, it does not stipulate a minimum amount of space for humans. The group's recommendation is that the DOT and FAA take a stand for humane treatment of passengers by setting minimum standards for the amount of space available for humans on planes. The group's report also highlighted that tests conducted by the FAA use planes with a 31 inch pitch, a standard which has decreased on some airlines. The distance between two seats from one point on a seat to the same point on the seat behind it is known as the pitch. While most airlines stick to a pitch of 31 inches or above, some fall below this. The group's report also raised concerns about the shrinking space on planes, particularly for passengers.\n",
      "268\n"
     ]
    }
   ],
   "source": [
    "content = dataset[0]['article']\n",
    "print(*(get_summary(content, model)), sep='\\n')"
   ]
  }
 ],
 "metadata": {
  "kernelspec": {
   "display_name": "Python 3",
   "language": "python",
   "name": "python3"
  },
  "language_info": {
   "codemirror_mode": {
    "name": "ipython",
    "version": 3
   },
   "file_extension": ".py",
   "mimetype": "text/x-python",
   "name": "python",
   "nbconvert_exporter": "python",
   "pygments_lexer": "ipython3",
   "version": "3.11.11"
  }
 },
 "nbformat": 4,
 "nbformat_minor": 5
}
