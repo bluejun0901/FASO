{
 "cells": [
  {
   "cell_type": "code",
   "execution_count": 9,
   "id": "09582e1e",
   "metadata": {
    "tags": []
   },
   "outputs": [],
   "source": [
    "from tensorboard.backend.event_processing.event_accumulator import EventAccumulator\n",
    "import os\n",
    "from pathlib import Path\n",
    "from dotenv import load_dotenv\n",
    "import matplotlib.pyplot as plt\n",
    "\n",
    "load_dotenv()\n",
    "\n",
    "PROJECT_ROOT = Path(os.getenv(\"PROJECT_ROOT\")).resolve()  # type: ignore\n",
    "\n",
    "def ema(values, alpha=0.98):\n",
    "    \"\"\"Exponential Moving Average smoothing\"\"\"\n",
    "    smoothed = []\n",
    "    m = None\n",
    "    for v in values:\n",
    "        m = v if m is None else alpha * m + (1 - alpha) * v\n",
    "        smoothed.append(m)\n",
    "    return smoothed"
   ]
  },
  {
   "cell_type": "code",
   "execution_count": 27,
   "id": "18bf3439",
   "metadata": {
    "tags": []
   },
   "outputs": [],
   "source": [
    "log_root = PROJECT_ROOT / input(\"enter log root: \")\n",
    "log_dirs = []\n",
    "event_accs = []\n",
    "names = []\n",
    "\n",
    "for sub in log_root.iterdir():\n",
    "    if sub.is_dir():\n",
    "        log_dirs.append(sub)\n",
    "        event_acc = EventAccumulator(str(sub))\n",
    "        event_acc.Reload()\n",
    "        event_accs.append(event_acc)\n",
    "        names.append(sub.name.split(\"2025\")[0].replace(\"_\", \" \").strip())"
   ]
  },
  {
   "cell_type": "code",
   "execution_count": 28,
   "id": "df4f702d",
   "metadata": {
    "tags": []
   },
   "outputs": [],
   "source": [
    "graph_dir = PROJECT_ROOT / input(\"output path: \")\n",
    "os.makedirs(graph_dir, exist_ok=True)"
   ]
  },
  {
   "cell_type": "code",
   "execution_count": 29,
   "id": "0c4b9ed5",
   "metadata": {},
   "outputs": [],
   "source": [
    "def draw_one_scalar(event_accs, tag, graph_dir, names=None):\n",
    "    plt.figure(figsize=(10, 5))\n",
    "    labels = names if names is not None else [f'Log {i+1}' for i in range(len(event_accs))]\n",
    "    for i, event_acc in enumerate(event_accs):\n",
    "        scalar_events = event_acc.Scalars(tag)\n",
    "        steps = [e.step for e in scalar_events]\n",
    "        values = [e.value for e in scalar_events]\n",
    "        plt.plot(steps, values, label=labels[i] + \" raw\", color=f\"C{i}\", alpha=0.3)\n",
    "    for i, event_acc in enumerate(event_accs):\n",
    "        scalar_events = event_acc.Scalars(tag)\n",
    "        steps = [e.step for e in scalar_events]\n",
    "        values = [e.value for e in scalar_events]\n",
    "        smoothed_values = ema(values)\n",
    "        plt.plot(steps, smoothed_values, label=labels[i] + \" ema\", color=f\"C{i}\")\n",
    "    plt.xlabel('Step')\n",
    "    plt.ylabel(tag)\n",
    "    plt.title(f'Scalar: {tag}')\n",
    "    plt.legend()\n",
    "    plt.grid(True)\n",
    "    plt.savefig(graph_dir / f\"{tag.replace('/', '_')}.png\", dpi=300)\n",
    "    plt.close()"
   ]
  },
  {
   "cell_type": "code",
   "execution_count": 30,
   "id": "f6afcb24",
   "metadata": {
    "tags": []
   },
   "outputs": [],
   "source": [
    "# only common tags\n",
    "scalars = set(event_accs[0].Tags()['scalars'])\n",
    "for event_acc in event_accs[1:]:\n",
    "    scalars.intersection_update(set(event_acc.Tags()['scalars']))"
   ]
  },
  {
   "cell_type": "code",
   "execution_count": 31,
   "id": "e0c1cca4",
   "metadata": {
    "tags": []
   },
   "outputs": [
    {
     "name": "stdout",
     "output_type": "stream",
     "text": [
      "Saved graph for train/rewards/chosen\n",
      "Saved graph for train/grad_norm\n",
      "Saved graph for train/epoch\n",
      "Saved graph for train/logits/chosen\n",
      "Saved graph for train/learning_rate\n",
      "Saved graph for train/logits/rejected\n",
      "Saved graph for train/logps/chosen\n",
      "Saved graph for train/rewards/rejected\n",
      "Saved graph for train/logps/rejected\n",
      "Saved graph for train/rewards/accuracies\n",
      "Saved graph for train/rewards/margins\n",
      "Saved graph for train/loss\n"
     ]
    }
   ],
   "source": [
    "for tag in scalars:\n",
    "    draw_one_scalar(event_accs, tag, graph_dir, names)\n",
    "    print(f\"Saved graph for {tag}\")"
   ]
  }
 ],
 "metadata": {
  "kernelspec": {
   "display_name": "llm_dag_allign",
   "language": "python",
   "name": "python3"
  },
  "language_info": {
   "codemirror_mode": {
    "name": "ipython",
    "version": 3
   },
   "file_extension": ".py",
   "mimetype": "text/x-python",
   "name": "python",
   "nbconvert_exporter": "python",
   "pygments_lexer": "ipython3",
   "version": "3.11.11"
  }
 },
 "nbformat": 4,
 "nbformat_minor": 5
}
